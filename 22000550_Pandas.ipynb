{
 "cells": [
  {
   "cell_type": "code",
   "execution_count": 7,
   "id": "765dfb78",
   "metadata": {},
   "outputs": [
    {
     "name": "stdout",
     "output_type": "stream",
     "text": [
      "   ProductID ProductName  ProductPrice\n",
      "0        101   Product A         10.99\n",
      "1        102   Product B         20.49\n",
      "2        103   Product C         15.99\n",
      "3        104   Product D         25.99\n",
      "4        105   Product E         30.49\n"
     ]
    }
   ],
   "source": [
    "import pandas as pd\n",
    "\n",
    "product_id = [101, 102, 103, 104, 105]\n",
    "product_name = ['Product A', 'Product B', 'Product C', 'Product D', 'Product E']\n",
    "product_price = [10.99, 20.49, 15.99, 25.99, 30.49]\n",
    "\n",
    "\n",
    "df = pd.DataFrame({\n",
    "    'ProductID': product_id,\n",
    "    'ProductName': product_name,\n",
    "    'ProductPrice': product_price})\n",
    "\n",
    "print(df)\n"
   ]
  },
  {
   "cell_type": "code",
   "execution_count": 4,
   "id": "8e64468c",
   "metadata": {},
   "outputs": [
    {
     "name": "stdout",
     "output_type": "stream",
     "text": [
      "Product IDs:\n",
      "0    101\n",
      "1    102\n",
      "2    103\n",
      "3    104\n",
      "4    105\n",
      "Name: ProductID, dtype: int64\n",
      "Product Names:\n",
      "0    Product A\n",
      "1    Product B\n",
      "2    Product C\n",
      "3    Product D\n",
      "4    Product E\n",
      "Name: ProductName, dtype: object\n",
      "Product Prices:\n",
      "0    10.99\n",
      "1    20.49\n",
      "2    15.99\n",
      "3    25.99\n",
      "4    30.49\n",
      "Name: ProductPrice, dtype: float64\n"
     ]
    }
   ],
   "source": [
    "import pandas as pd\n",
    "\n",
    "\n",
    "product_id = [101, 102, 103, 104, 105]\n",
    "product_name = ['Product A', 'Product B', 'Product C', 'Product D', 'Product E']\n",
    "product_price = [10.99, 20.49, 15.99, 25.99, 30.49]\n",
    "\n",
    "df = pd.DataFrame({\n",
    "    'ProductID': product_id,\n",
    "    'ProductName': product_name,\n",
    "    'ProductPrice': product_price\n",
    "})\n",
    "\n",
    "\n",
    "product_ids = df['ProductID']\n",
    "product_names = df['ProductName']\n",
    "product_prices = df['ProductPrice']\n",
    "\n",
    "print(\"Product IDs:\")\n",
    "print(product_ids)\n",
    "print(\"Product Names:\")\n",
    "print(product_names)\n",
    "print(\"Product Prices:\")\n",
    "print(product_prices)\n"
   ]
  },
  {
   "cell_type": "code",
   "execution_count": 5,
   "id": "f991088d",
   "metadata": {},
   "outputs": [
    {
     "name": "stdout",
     "output_type": "stream",
     "text": [
      "Row 1 :\n",
      "ProductID             101\n",
      "ProductName     Product A\n",
      "ProductPrice        10.99\n",
      "Name: 0, dtype: object\n",
      "\n",
      "Row 2 :\n",
      "ProductID             102\n",
      "ProductName     Product B\n",
      "ProductPrice        20.49\n",
      "Name: 1, dtype: object\n",
      "\n",
      "Row 3 :\n",
      "ProductID             103\n",
      "ProductName     Product C\n",
      "ProductPrice        15.99\n",
      "Name: 2, dtype: object\n",
      "\n",
      "Row 4 :\n",
      "ProductID             104\n",
      "ProductName     Product D\n",
      "ProductPrice        25.99\n",
      "Name: 3, dtype: object\n",
      "\n",
      "Row 5 :\n",
      "ProductID             105\n",
      "ProductName     Product E\n",
      "ProductPrice        30.49\n",
      "Name: 4, dtype: object\n",
      "\n"
     ]
    }
   ],
   "source": [
    "import pandas as pd\n",
    "\n",
    "\n",
    "product_id = [101, 102, 103, 104, 105]\n",
    "product_name = ['Product A', 'Product B', 'Product C', 'Product D', 'Product E']\n",
    "product_price = [10.99, 20.49, 15.99, 25.99, 30.49]\n",
    "\n",
    "df = pd.DataFrame({\n",
    "    'ProductID': product_id,\n",
    "    'ProductName': product_name,\n",
    "    'ProductPrice': product_price\n",
    "})\n",
    "\n",
    "\n",
    "for i in range(len(df)):\n",
    "    row = df.iloc[i]\n",
    "    print(\"Row\", i+1, \":\")\n",
    "    print(row)\n",
    "    print()\n"
   ]
  },
  {
   "cell_type": "code",
   "execution_count": 7,
   "id": "b4aea5ca",
   "metadata": {},
   "outputs": [
    {
     "name": "stdout",
     "output_type": "stream",
     "text": [
      "Data from the third row (Product Name): Product C\n"
     ]
    }
   ],
   "source": [
    "import pandas as pd\n",
    "\n",
    "\n",
    "product_id = [101, 102, 103, 104, 105]\n",
    "product_name = ['Product A', 'Product B', 'Product C', 'Product D', 'Product E']\n",
    "product_price = [10.99, 20.49, 15.99, 25.99, 30.49]\n",
    "\n",
    "df = pd.DataFrame({\n",
    "    'ProductID': product_id,\n",
    "    'ProductName': product_name,\n",
    "    'ProductPrice': product_price\n",
    "})\n",
    "\n",
    "\n",
    "row_index = 2  \n",
    "data_from_3rd_row = df.loc[row_index, 'ProductName']\n",
    "print(\"Data from the third row (Product Name):\", data_from_3rd_row)\n"
   ]
  },
  {
   "cell_type": "code",
   "execution_count": 1,
   "id": "ed054f2a",
   "metadata": {},
   "outputs": [
    {
     "name": "stdout",
     "output_type": "stream",
     "text": [
      "20\n"
     ]
    }
   ],
   "source": [
    "import pandas as pd\n",
    "\n",
    "data = {\n",
    "    'product_name': ['Product A', 'Product B', 'Product C', 'Product D'],\n",
    "    'price': [10, 20, 30, 40]\n",
    "}\n",
    "\n",
    "df = pd.DataFrame(data)\n",
    "\n",
    "\n",
    "price_2nd_row = df.iloc[1]['price']\n",
    "print(price_2nd_row)\n"
   ]
  },
  {
   "cell_type": "code",
   "execution_count": 8,
   "id": "582a2c4b",
   "metadata": {},
   "outputs": [
    {
     "name": "stdout",
     "output_type": "stream",
     "text": [
      "  product_name\n",
      "1    Product B\n",
      "2    Product C\n",
      "3    Product D\n"
     ]
    }
   ],
   "source": [
    "import pandas as pd\n",
    "\n",
    "data = {\n",
    "    'product_name': ['Product A', 'Product B', 'Product C', 'Product D'],\n",
    "    'price': [10, 20, 30, 40]\n",
    "}\n",
    "\n",
    "df = pd.DataFrame(data)\n",
    "\n",
    "data_subset = df.iloc[1:4, :].drop(columns=['price'])\n",
    "print(data_subset)\n"
   ]
  },
  {
   "cell_type": "code",
   "execution_count": 3,
   "id": "2a602f9c",
   "metadata": {},
   "outputs": [
    {
     "name": "stdout",
     "output_type": "stream",
     "text": [
      "0    10\n",
      "1    20\n",
      "2    30\n",
      "Name: price, dtype: int64\n"
     ]
    }
   ],
   "source": [
    "import pandas as pd\n",
    "\n",
    "data = {\n",
    "    'product_name': ['Product A', 'Product B', 'Product C', 'Product D'],\n",
    "    'price': [10, 20, 30, 40]\n",
    "}\n",
    "\n",
    "df = pd.DataFrame(data)\n",
    "\n",
    "price_subset = df.iloc[0:3]['price']\n",
    "print(price_subset)\n"
   ]
  },
  {
   "cell_type": "code",
   "execution_count": 4,
   "id": "765f1d11",
   "metadata": {},
   "outputs": [
    {
     "name": "stdout",
     "output_type": "stream",
     "text": [
      "   Student_ID    Name  Marks\n",
      "0           1    John     41\n",
      "1           2    Umma     42\n",
      "2           3    Luke     41\n",
      "3           4  Sophia     55\n",
      "4           5  Oliver     60\n"
     ]
    }
   ],
   "source": [
    "import pandas as pd\n",
    "\n",
    "data = {\n",
    "    'Student_ID': [1, 2, 3, 4, 5],\n",
    "    'Name': ['John', 'Umma', 'Luke', 'Sophia', 'Oliver'],\n",
    "    'Marks': [35, 42, 38, 55, 60]\n",
    "}\n",
    "\n",
    "df = pd.DataFrame(data)\n",
    "\n",
    "df.loc[df['Marks'] < 40, 'Marks'] = 41\n",
    "\n",
    "print(df)\n"
   ]
  },
  {
   "cell_type": "code",
   "execution_count": 5,
   "id": "3466486e",
   "metadata": {},
   "outputs": [
    {
     "name": "stdout",
     "output_type": "stream",
     "text": [
      "   Student_ID    Name  Maths  Science  English\n",
      "0           1    John     82       87       77\n",
      "1           2    Umma     92       90       87\n",
      "2           3    Luke     97       94       90\n",
      "3           4  Sophia    100       99       94\n",
      "4           5  Oliver    100      100       97\n"
     ]
    }
   ],
   "source": [
    "import pandas as pd\n",
    "\n",
    "data = {\n",
    "    'Student_ID': [1, 2, 3, 4, 5],\n",
    "    'Name': ['John', 'Umma', 'Luke', 'Sophia', 'Oliver'],\n",
    "    'Maths': [80, 90, 95, 100, 98],\n",
    "    'Science': [85, 88, 92, 97, 99],\n",
    "    'English': [75, 85, 88, 92, 95]\n",
    "}\n",
    "\n",
    "df = pd.DataFrame(data)\n",
    "\n",
    "\n",
    "df[['Maths', 'Science', 'English']] += 2\n",
    "\n",
    "df[['Maths', 'Science', 'English']] = df[['Maths', 'Science', 'English']].applymap(lambda x: min(x, 100))\n",
    "\n",
    "print(df)\n"
   ]
  },
  {
   "cell_type": "code",
   "execution_count": 6,
   "id": "95091bcd",
   "metadata": {},
   "outputs": [
    {
     "name": "stdout",
     "output_type": "stream",
     "text": [
      "   Student_ID    Name  Maths  Science  English\n",
      "0           1    John     80       85       75\n",
      "1           2    Umma     90       88       85\n",
      "2           3    Luke     55       62       58\n",
      "4           5  Oliver     70       95       65\n"
     ]
    }
   ],
   "source": [
    "import pandas as pd\n",
    "\n",
    "data = {\n",
    "    'Student_ID': [1, 2, 3, 4, 5],\n",
    "    'Name': ['John', 'Umma', 'Luke', 'Sophia', 'Oliver'],\n",
    "    'Maths': [80, 90, 55, 65, 70],\n",
    "    'Science': [85, 88, 62, 57, 95],\n",
    "    'English': [75, 85, 58, 62, 65]\n",
    "}\n",
    "\n",
    "df = pd.DataFrame(data)\n",
    "\n",
    "maths_mask = df['Maths'] > 50\n",
    "science_mask = df['Science'] > 60\n",
    "\n",
    "result = df[maths_mask & science_mask]\n",
    "\n",
    "print(result)\n"
   ]
  },
  {
   "cell_type": "code",
   "execution_count": 8,
   "id": "338c0b8d",
   "metadata": {},
   "outputs": [
    {
     "name": "stdout",
     "output_type": "stream",
     "text": [
      "   Student_ID    Name  Maths  Science  English\n",
      "3           4  Sophia     65       57       62\n"
     ]
    }
   ],
   "source": [
    "import pandas as pd\n",
    "\n",
    "# Example DataFrame\n",
    "data = {\n",
    "    'Student_ID': [1, 2, 3, 4, 5],\n",
    "    'Name': ['John', 'Umma', 'Luke', 'Sophia', 'Oliver'],\n",
    "    'Maths': [80, 90, 55, 65, 70],\n",
    "    'Science': [85, 88, 62, 57, 95],\n",
    "    'English': [75, 85, 58, 62, 65]\n",
    "}\n",
    "\n",
    "df = pd.DataFrame(data)\n",
    "\n",
    "\n",
    "result = df[df['Name'].str.startswith('S')]\n",
    "\n",
    "print(result)\n"
   ]
  },
  {
   "cell_type": "code",
   "execution_count": 9,
   "id": "50214fbb",
   "metadata": {},
   "outputs": [
    {
     "name": "stdout",
     "output_type": "stream",
     "text": [
      "   Student_ID    Name  Maths  Science  English\n",
      "1           2    Umma     90       88       85\n",
      "3           4  Sophia     65       57       62\n"
     ]
    }
   ],
   "source": [
    "import pandas as pd\n",
    "\n",
    "data = {\n",
    "    'Student_ID': [1, 2, 3, 4, 5],\n",
    "    'Name': ['John', 'Umma', 'Luke', 'Sophia', 'Oliver'],\n",
    "    'Maths': [80, 90, 55, 65, 70],\n",
    "    'Science': [85, 88, 62, 57, 95],\n",
    "    'English': [75, 85, 58, 62, 65]\n",
    "}\n",
    "\n",
    "df = pd.DataFrame(data)\n",
    "\n",
    "result = df[df['Name'].str.endswith('a')]\n",
    "\n",
    "print(result)\n"
   ]
  },
  {
   "cell_type": "code",
   "execution_count": 11,
   "id": "c4022a2b",
   "metadata": {},
   "outputs": [
    {
     "name": "stdout",
     "output_type": "stream",
     "text": [
      "   Student_ID    Name  Maths  Science  English  Total  Percentage\n",
      "0           1    John     80       85       75    240   80.000000\n",
      "1           2    Umma     90       88       85    263   87.666667\n",
      "2           3    Luke     55       62       58    175   58.333333\n",
      "3           4  Sophia     65       57       62    184   61.333333\n",
      "4           5  Oliver     70       95       65    230   76.666667\n"
     ]
    }
   ],
   "source": [
    "import pandas as pd\n",
    "\n",
    "data = {\n",
    "    'Student_ID': [1, 2, 3, 4, 5],\n",
    "    'Name': ['John', 'Umma', 'Luke', 'Sophia', 'Oliver'],\n",
    "    'Maths': [80, 90, 55, 65, 70],\n",
    "    'Science': [85, 88, 62, 57, 95],\n",
    "    'English': [75, 85, 58, 62, 65]\n",
    "}\n",
    "\n",
    "df = pd.DataFrame(data)\n",
    "\n",
    "df['Total'] = df['Maths'] + df['Science'] + df['English']\n",
    "\n",
    "max_marks_per_subject = 100  \n",
    "df['Percentage'] = (df['Total'] / (3 * max_marks_per_subject)) * 100\n",
    "\n",
    "print(df)\n"
   ]
  },
  {
   "cell_type": "code",
   "execution_count": 12,
   "id": "c3353c07",
   "metadata": {},
   "outputs": [
    {
     "name": "stdout",
     "output_type": "stream",
     "text": [
      "   Student_ID    Name  Maths  Science  English  Total Status\n",
      "0           1    John     80       85       75    240   PASS\n",
      "1           2    Umma     90       88       85    263   PASS\n",
      "2           3    Luke     55       62       58    175   PASS\n",
      "3           4  Sophia     65       57       62    184   PASS\n",
      "4           5  Oliver     70       95       65    230   PASS\n"
     ]
    }
   ],
   "source": [
    "import pandas as pd\n",
    "\n",
    "data = {\n",
    "    'Student_ID': [1, 2, 3, 4, 5],\n",
    "    'Name': ['John', 'Umma', 'Luke', 'Sophia', 'Oliver'],\n",
    "    'Maths': [80, 90, 55, 65, 70],\n",
    "    'Science': [85, 88, 62, 57, 95],\n",
    "    'English': [75, 85, 58, 62, 65]\n",
    "}\n",
    "\n",
    "df = pd.DataFrame(data)\n",
    "\n",
    "df['Total'] = df['Maths'] + df['Science'] + df['English']\n",
    "\n",
    "passing_marks = 150  \n",
    "\n",
    "df['Status'] = df['Total'].apply(lambda x: 'PASS' if x >= passing_marks else 'FAIL')\n",
    "\n",
    "print(df)\n"
   ]
  },
  {
   "cell_type": "code",
   "execution_count": 15,
   "id": "40a78171",
   "metadata": {},
   "outputs": [
    {
     "name": "stdout",
     "output_type": "stream",
     "text": [
      "   Student_ID    Name  Maths  Science  English  Total  Percentage Grade\n",
      "0           1    John     80       85       75    240   80.000000     B\n",
      "1           2    Umma     90       88       85    263   87.666667     B\n",
      "2           3    Luke     55       62       58    175   58.333333     E\n",
      "3           4  Sophia     65       57       62    184   61.333333     D\n",
      "4           5  Oliver     70       95       65    230   76.666667     C\n"
     ]
    }
   ],
   "source": [
    "import pandas as pd\n",
    "\n",
    "data = {\n",
    "    'Student_ID': [1, 2, 3, 4, 5],\n",
    "    'Name': ['John', 'Umma', 'Luke', 'Sophia', 'Oliver'],\n",
    "    'Maths': [80, 90, 55, 65, 70],\n",
    "    'Science': [85, 88, 62, 57, 95],\n",
    "    'English': [75, 85, 58, 62, 65]\n",
    "}\n",
    "\n",
    "df = pd.DataFrame(data)\n",
    "\n",
    "df['Total'] = df['Maths'] + df['Science'] + df['English']\n",
    "\n",
    "max_marks_per_subject = 100  \n",
    "df['Percentage'] = (df['Total'] / (3 * max_marks_per_subject)) * 100\n",
    "\n",
    "def calculate_grade(percentage):\n",
    "    if percentage >= 90:\n",
    "        return 'A'\n",
    "    elif percentage >= 80:\n",
    "        return 'B'\n",
    "    elif percentage >= 70:\n",
    "        return 'C'\n",
    "    elif percentage >= 60:\n",
    "        return 'D'\n",
    "    elif percentage >= 50:\n",
    "        return 'E'\n",
    "    else:\n",
    "        return 'F'\n",
    "\n",
    "df['Grade'] = df['Percentage'].apply(calculate_grade)\n",
    "\n",
    "print(df)\n"
   ]
  },
  {
   "cell_type": "code",
   "execution_count": 23,
   "id": "afe13af4",
   "metadata": {},
   "outputs": [
    {
     "name": "stdout",
     "output_type": "stream",
     "text": [
      "            Total  Maximum  Minimum  Standard Deviation\n",
      "Student_ID     15        5        1            1.581139\n",
      "Maths         360       90       55           13.509256\n",
      "Science       387       95       57           16.831518\n",
      "English       345       85       58           10.931606\n"
     ]
    }
   ],
   "source": [
    "import pandas as pd\n",
    "\n",
    "data = {\n",
    "    'Student_ID': [1, 2, 3, 4, 5],\n",
    "    'Name': ['John', 'Umma', 'Luke', 'Sophia', 'Oliver'],\n",
    "    'Maths': [80, 90, 55, 65, 70],\n",
    "    'Science': [85, 88, 62, 57, 95],\n",
    "    'English': [75, 85, 58, 62, 65]\n",
    "}\n",
    "\n",
    "df = pd.DataFrame(data)\n",
    "\n",
    "overall_summary = pd.DataFrame({\n",
    "    'Total': df.select_dtypes(include='number').sum(),\n",
    "    'Maximum': df.select_dtypes(include='number').max(),\n",
    "    'Minimum': df.select_dtypes(include='number').min(),\n",
    "    'Standard Deviation': df.select_dtypes(include='number').std()\n",
    "})\n",
    "\n",
    "print(overall_summary)\n"
   ]
  },
  {
   "cell_type": "code",
   "execution_count": 24,
   "id": "a01ecbea",
   "metadata": {},
   "outputs": [
    {
     "name": "stdout",
     "output_type": "stream",
     "text": [
      "Dataframe converted and saved as:\n",
      "Excel: overall_summary.xlsx\n",
      "JSON: overall_summary.json\n",
      "HTML: overall_summary.html\n"
     ]
    }
   ],
   "source": [
    "import pandas as pd\n",
    "\n",
    "data = {\n",
    "    'Student_ID': [1, 2, 3, 4, 5],\n",
    "    'Name': ['John', 'Umma', 'Luke', 'Sophia', 'Oliver'],\n",
    "    'Maths': [80, 90, 55, 65, 70],\n",
    "    'Science': [85, 88, 62, 57, 95],\n",
    "    'English': [75, 85, 58, 62, 65]\n",
    "}\n",
    "\n",
    "df = pd.DataFrame(data)\n",
    "\n",
    "overall_summary = pd.DataFrame({\n",
    "    'Total': df.select_dtypes(include='number').sum(),\n",
    "    'Maximum': df.select_dtypes(include='number').max(),\n",
    "    'Minimum': df.select_dtypes(include='number').min(),\n",
    "    'Standard Deviation': df.select_dtypes(include='number').std()\n",
    "})\n",
    "\n",
    "\n",
    "excel_filename = \"overall_summary.xlsx\"\n",
    "json_filename = \"overall_summary.json\"\n",
    "html_filename = \"overall_summary.html\"\n",
    "\n",
    "overall_summary.to_excel(excel_filename)\n",
    "overall_summary.to_json(json_filename)\n",
    "overall_summary.to_html(html_filename)\n",
    "\n",
    "print(\"Dataframe converted and saved as:\")\n",
    "print(f\"Excel: {excel_filename}\")\n",
    "print(f\"JSON: {json_filename}\")\n",
    "print(f\"HTML: {html_filename}\")\n"
   ]
  },
  {
   "cell_type": "code",
   "execution_count": 25,
   "id": "92a696d2",
   "metadata": {},
   "outputs": [
    {
     "name": "stdout",
     "output_type": "stream",
     "text": [
      "<class 'pandas.core.frame.DataFrame'>\n",
      "RangeIndex: 5 entries, 0 to 4\n",
      "Data columns (total 5 columns):\n",
      " #   Column      Non-Null Count  Dtype \n",
      "---  ------      --------------  ----- \n",
      " 0   Student_ID  5 non-null      int64 \n",
      " 1   Name        5 non-null      object\n",
      " 2   Maths       5 non-null      int64 \n",
      " 3   Science     5 non-null      int64 \n",
      " 4   English     5 non-null      int64 \n",
      "dtypes: int64(4), object(1)\n",
      "memory usage: 332.0+ bytes\n",
      "None\n"
     ]
    }
   ],
   "source": [
    "import pandas as pd\n",
    "\n",
    "data = {\n",
    "    'Student_ID': [1, 2, 3, 4, 5],\n",
    "    'Name': ['John', 'Umma', 'Luke', 'Sophia', 'Oliver'],\n",
    "    'Maths': [80, 90, 55, 65, 70],\n",
    "    'Science': [85, 88, 62, 57, 95],\n",
    "    'English': [75, 85, 58, 62, 65]\n",
    "}\n",
    "\n",
    "df = pd.DataFrame(data)\n",
    "\n",
    "print(df.info())\n"
   ]
  },
  {
   "cell_type": "code",
   "execution_count": 26,
   "id": "dcee6326",
   "metadata": {},
   "outputs": [
    {
     "name": "stdout",
     "output_type": "stream",
     "text": [
      "{'Student_ID': [1, 2, 3, 4, 5], 'Name': ['John', 'Umma', 'Luke', 'Sophia', 'Oliver'], 'Maths': [80, 90, 55, 65, 70], 'Science': [85, 88, 62, 57, 95], 'English': [75, 85, 58, 62, 65]}\n"
     ]
    }
   ],
   "source": [
    "import pandas as pd\n",
    "\n",
    "data = {\n",
    "    'Student_ID': [1, 2, 3, 4, 5],\n",
    "    'Name': ['John', 'Umma', 'Luke', 'Sophia', 'Oliver'],\n",
    "    'Maths': [80, 90, 55, 65, 70],\n",
    "    'Science': [85, 88, 62, 57, 95],\n",
    "    'English': [75, 85, 58, 62, 65]\n",
    "}\n",
    "\n",
    "df = pd.DataFrame(data)\n",
    "\n",
    "data_dict = df.to_dict(orient='list')\n",
    "\n",
    "print(data_dict)\n"
   ]
  },
  {
   "cell_type": "code",
   "execution_count": 2,
   "id": "e24f288a",
   "metadata": {},
   "outputs": [
    {
     "name": "stdout",
     "output_type": "stream",
     "text": [
      "   Student_ID    Name  Maths  Science  English\n",
      "0           1    John    580       85       75\n",
      "1           2    Emma    590       88       85\n",
      "2           3    Luke    555       62       58\n",
      "3           4  Sophia    565       57       62\n",
      "4           5  Oliver    570       95       65\n"
     ]
    }
   ],
   "source": [
    "import pandas as pd\n",
    "\n",
    "data_dict = {\n",
    "    'Student_ID': [1, 2, 3, 4, 5],\n",
    "    'Name': ['John', 'Emma', 'Luke', 'Sophia', 'Oliver'],\n",
    "    'Maths': [80, 90, 55, 65, 70],\n",
    "    'Science': [85, 88, 62, 57, 95],\n",
    "    'English': [75, 85, 58, 62, 65]\n",
    "}\n",
    "\n",
    "df = pd.DataFrame(data_dict)\n",
    "\n",
    "df['Maths'] += 500\n",
    "\n",
    "print(df)\n"
   ]
  },
  {
   "cell_type": "code",
   "execution_count": 3,
   "id": "b4c0578b",
   "metadata": {},
   "outputs": [],
   "source": [
    "# TASK 2"
   ]
  },
  {
   "cell_type": "code",
   "execution_count": 4,
   "id": "743ad140",
   "metadata": {},
   "outputs": [],
   "source": [
    "import pandas as pd"
   ]
  },
  {
   "cell_type": "code",
   "execution_count": 5,
   "id": "51797add",
   "metadata": {},
   "outputs": [],
   "source": [
    "import numpy as np"
   ]
  },
  {
   "cell_type": "code",
   "execution_count": 6,
   "id": "7c0228e1",
   "metadata": {},
   "outputs": [
    {
     "name": "stderr",
     "output_type": "stream",
     "text": [
      "C:\\Users\\Admin\\AppData\\Local\\Temp\\ipykernel_5772\\3968335351.py:1: DtypeWarning: Columns (3,4,5,6,12) have mixed types. Specify dtype option on import or set low_memory=False.\n",
      "  df=pd.read_csv(\"C:/Users/Admin/Desktop/DATA SCIENCE/datasets (1)/Salaries.csv\")\n"
     ]
    }
   ],
   "source": [
    "df=pd.read_csv(\"C:/Users/Admin/Desktop/DATA SCIENCE/datasets (1)/Salaries.csv\")\n"
   ]
  },
  {
   "cell_type": "code",
   "execution_count": 6,
   "id": "a22dee59",
   "metadata": {},
   "outputs": [
    {
     "data": {
      "text/html": [
       "<div>\n",
       "<style scoped>\n",
       "    .dataframe tbody tr th:only-of-type {\n",
       "        vertical-align: middle;\n",
       "    }\n",
       "\n",
       "    .dataframe tbody tr th {\n",
       "        vertical-align: top;\n",
       "    }\n",
       "\n",
       "    .dataframe thead th {\n",
       "        text-align: right;\n",
       "    }\n",
       "</style>\n",
       "<table border=\"1\" class=\"dataframe\">\n",
       "  <thead>\n",
       "    <tr style=\"text-align: right;\">\n",
       "      <th></th>\n",
       "      <th>Id</th>\n",
       "      <th>EmployeeName</th>\n",
       "      <th>JobTitle</th>\n",
       "      <th>BasePay</th>\n",
       "      <th>OvertimePay</th>\n",
       "      <th>OtherPay</th>\n",
       "      <th>Benefits</th>\n",
       "      <th>TotalPay</th>\n",
       "      <th>TotalPayBenefits</th>\n",
       "      <th>Year</th>\n",
       "      <th>Notes</th>\n",
       "      <th>Agency</th>\n",
       "      <th>Status</th>\n",
       "    </tr>\n",
       "  </thead>\n",
       "  <tbody>\n",
       "    <tr>\n",
       "      <th>0</th>\n",
       "      <td>1</td>\n",
       "      <td>NATHANIEL FORD</td>\n",
       "      <td>GENERAL MANAGER-METROPOLITAN TRANSIT AUTHORITY</td>\n",
       "      <td>167411.18</td>\n",
       "      <td>0.0</td>\n",
       "      <td>400184.25</td>\n",
       "      <td>NaN</td>\n",
       "      <td>567595.43</td>\n",
       "      <td>567595.43</td>\n",
       "      <td>2011</td>\n",
       "      <td>NaN</td>\n",
       "      <td>San Francisco</td>\n",
       "      <td>NaN</td>\n",
       "    </tr>\n",
       "    <tr>\n",
       "      <th>1</th>\n",
       "      <td>2</td>\n",
       "      <td>GARY JIMENEZ</td>\n",
       "      <td>CAPTAIN III (POLICE DEPARTMENT)</td>\n",
       "      <td>155966.02</td>\n",
       "      <td>245131.88</td>\n",
       "      <td>137811.38</td>\n",
       "      <td>NaN</td>\n",
       "      <td>538909.28</td>\n",
       "      <td>538909.28</td>\n",
       "      <td>2011</td>\n",
       "      <td>NaN</td>\n",
       "      <td>San Francisco</td>\n",
       "      <td>NaN</td>\n",
       "    </tr>\n",
       "    <tr>\n",
       "      <th>2</th>\n",
       "      <td>3</td>\n",
       "      <td>ALBERT PARDINI</td>\n",
       "      <td>CAPTAIN III (POLICE DEPARTMENT)</td>\n",
       "      <td>212739.13</td>\n",
       "      <td>106088.18</td>\n",
       "      <td>16452.6</td>\n",
       "      <td>NaN</td>\n",
       "      <td>335279.91</td>\n",
       "      <td>335279.91</td>\n",
       "      <td>2011</td>\n",
       "      <td>NaN</td>\n",
       "      <td>San Francisco</td>\n",
       "      <td>NaN</td>\n",
       "    </tr>\n",
       "    <tr>\n",
       "      <th>3</th>\n",
       "      <td>4</td>\n",
       "      <td>CHRISTOPHER CHONG</td>\n",
       "      <td>WIRE ROPE CABLE MAINTENANCE MECHANIC</td>\n",
       "      <td>77916.0</td>\n",
       "      <td>56120.71</td>\n",
       "      <td>198306.9</td>\n",
       "      <td>NaN</td>\n",
       "      <td>332343.61</td>\n",
       "      <td>332343.61</td>\n",
       "      <td>2011</td>\n",
       "      <td>NaN</td>\n",
       "      <td>San Francisco</td>\n",
       "      <td>NaN</td>\n",
       "    </tr>\n",
       "    <tr>\n",
       "      <th>4</th>\n",
       "      <td>5</td>\n",
       "      <td>PATRICK GARDNER</td>\n",
       "      <td>DEPUTY CHIEF OF DEPARTMENT,(FIRE DEPARTMENT)</td>\n",
       "      <td>134401.6</td>\n",
       "      <td>9737.0</td>\n",
       "      <td>182234.59</td>\n",
       "      <td>NaN</td>\n",
       "      <td>326373.19</td>\n",
       "      <td>326373.19</td>\n",
       "      <td>2011</td>\n",
       "      <td>NaN</td>\n",
       "      <td>San Francisco</td>\n",
       "      <td>NaN</td>\n",
       "    </tr>\n",
       "  </tbody>\n",
       "</table>\n",
       "</div>"
      ],
      "text/plain": [
       "   Id       EmployeeName                                        JobTitle  \\\n",
       "0   1     NATHANIEL FORD  GENERAL MANAGER-METROPOLITAN TRANSIT AUTHORITY   \n",
       "1   2       GARY JIMENEZ                 CAPTAIN III (POLICE DEPARTMENT)   \n",
       "2   3     ALBERT PARDINI                 CAPTAIN III (POLICE DEPARTMENT)   \n",
       "3   4  CHRISTOPHER CHONG            WIRE ROPE CABLE MAINTENANCE MECHANIC   \n",
       "4   5    PATRICK GARDNER    DEPUTY CHIEF OF DEPARTMENT,(FIRE DEPARTMENT)   \n",
       "\n",
       "     BasePay OvertimePay   OtherPay Benefits   TotalPay  TotalPayBenefits  \\\n",
       "0  167411.18         0.0  400184.25      NaN  567595.43         567595.43   \n",
       "1  155966.02   245131.88  137811.38      NaN  538909.28         538909.28   \n",
       "2  212739.13   106088.18    16452.6      NaN  335279.91         335279.91   \n",
       "3    77916.0    56120.71   198306.9      NaN  332343.61         332343.61   \n",
       "4   134401.6      9737.0  182234.59      NaN  326373.19         326373.19   \n",
       "\n",
       "   Year  Notes         Agency Status  \n",
       "0  2011    NaN  San Francisco    NaN  \n",
       "1  2011    NaN  San Francisco    NaN  \n",
       "2  2011    NaN  San Francisco    NaN  \n",
       "3  2011    NaN  San Francisco    NaN  \n",
       "4  2011    NaN  San Francisco    NaN  "
      ]
     },
     "execution_count": 6,
     "metadata": {},
     "output_type": "execute_result"
    }
   ],
   "source": [
    "df.head()"
   ]
  },
  {
   "cell_type": "code",
   "execution_count": 7,
   "id": "9a56b832",
   "metadata": {},
   "outputs": [],
   "source": [
    "df=df.replace('Not Provided',np.nan)"
   ]
  },
  {
   "cell_type": "code",
   "execution_count": 8,
   "id": "9dbb1e45",
   "metadata": {},
   "outputs": [],
   "source": [
    "df=df.replace('Not provided',np.nan)"
   ]
  },
  {
   "cell_type": "code",
   "execution_count": 9,
   "id": "e3b45ffe",
   "metadata": {},
   "outputs": [],
   "source": [
    "df['BasePay']=df['BasePay'].astype('float')"
   ]
  },
  {
   "cell_type": "code",
   "execution_count": 10,
   "id": "c3681d58",
   "metadata": {},
   "outputs": [
    {
     "name": "stdout",
     "output_type": "stream",
     "text": [
      "<class 'pandas.core.frame.DataFrame'>\n",
      "RangeIndex: 148654 entries, 0 to 148653\n",
      "Data columns (total 13 columns):\n",
      " #   Column            Non-Null Count   Dtype  \n",
      "---  ------            --------------   -----  \n",
      " 0   Id                148654 non-null  int64  \n",
      " 1   EmployeeName      148648 non-null  object \n",
      " 2   JobTitle          148650 non-null  object \n",
      " 3   BasePay           148045 non-null  float64\n",
      " 4   OvertimePay       148650 non-null  object \n",
      " 5   OtherPay          148650 non-null  object \n",
      " 6   Benefits          112491 non-null  object \n",
      " 7   TotalPay          148654 non-null  float64\n",
      " 8   TotalPayBenefits  148654 non-null  float64\n",
      " 9   Year              148654 non-null  int64  \n",
      " 10  Notes             0 non-null       float64\n",
      " 11  Agency            148654 non-null  object \n",
      " 12  Status            38119 non-null   object \n",
      "dtypes: float64(4), int64(2), object(7)\n",
      "memory usage: 14.7+ MB\n"
     ]
    }
   ],
   "source": [
    "df.info()"
   ]
  },
  {
   "cell_type": "code",
   "execution_count": 11,
   "id": "9af4c36d",
   "metadata": {},
   "outputs": [
    {
     "data": {
      "text/plain": [
       "66325.4488404877"
      ]
     },
     "execution_count": 11,
     "metadata": {},
     "output_type": "execute_result"
    }
   ],
   "source": [
    "df['BasePay'].mean()"
   ]
  },
  {
   "cell_type": "code",
   "execution_count": 13,
   "id": "5640885f",
   "metadata": {},
   "outputs": [],
   "source": [
    "df['OvertimePay']=df['OvertimePay'].astype('float')"
   ]
  },
  {
   "cell_type": "code",
   "execution_count": 14,
   "id": "739e48c1",
   "metadata": {},
   "outputs": [
    {
     "data": {
      "text/plain": [
       "245131.88"
      ]
     },
     "execution_count": 14,
     "metadata": {},
     "output_type": "execute_result"
    }
   ],
   "source": [
    "df['OvertimePay'].max()"
   ]
  },
  {
   "cell_type": "code",
   "execution_count": 48,
   "id": "bfb2bff9",
   "metadata": {},
   "outputs": [
    {
     "data": {
      "text/plain": [
       "24    CAPTAIN, FIRE SUPPRESSION\n",
       "Name: JobTitle, dtype: object"
      ]
     },
     "execution_count": 48,
     "metadata": {},
     "output_type": "execute_result"
    }
   ],
   "source": [
    "df[df['EmployeeName']=='JOSEPH DRISCOLL']['JobTitle']"
   ]
  },
  {
   "cell_type": "code",
   "execution_count": 51,
   "id": "b19fb2e7",
   "metadata": {},
   "outputs": [
    {
     "data": {
      "text/plain": [
       "24    270324.91\n",
       "Name: TotalPayBenefits, dtype: float64"
      ]
     },
     "execution_count": 51,
     "metadata": {},
     "output_type": "execute_result"
    }
   ],
   "source": [
    "df[df['EmployeeName']=='JOSEPH DRISCOLL']['TotalPayBenefits']"
   ]
  },
  {
   "cell_type": "code",
   "execution_count": 52,
   "id": "cd9dd58b",
   "metadata": {},
   "outputs": [
    {
     "data": {
      "text/html": [
       "<div>\n",
       "<style scoped>\n",
       "    .dataframe tbody tr th:only-of-type {\n",
       "        vertical-align: middle;\n",
       "    }\n",
       "\n",
       "    .dataframe tbody tr th {\n",
       "        vertical-align: top;\n",
       "    }\n",
       "\n",
       "    .dataframe thead th {\n",
       "        text-align: right;\n",
       "    }\n",
       "</style>\n",
       "<table border=\"1\" class=\"dataframe\">\n",
       "  <thead>\n",
       "    <tr style=\"text-align: right;\">\n",
       "      <th></th>\n",
       "      <th>Id</th>\n",
       "      <th>EmployeeName</th>\n",
       "      <th>JobTitle</th>\n",
       "      <th>BasePay</th>\n",
       "      <th>OvertimePay</th>\n",
       "      <th>OtherPay</th>\n",
       "      <th>Benefits</th>\n",
       "      <th>TotalPay</th>\n",
       "      <th>TotalPayBenefits</th>\n",
       "      <th>Year</th>\n",
       "      <th>Notes</th>\n",
       "      <th>Agency</th>\n",
       "      <th>Status</th>\n",
       "    </tr>\n",
       "  </thead>\n",
       "  <tbody>\n",
       "    <tr>\n",
       "      <th>0</th>\n",
       "      <td>1</td>\n",
       "      <td>NATHANIEL FORD</td>\n",
       "      <td>GENERAL MANAGER-METROPOLITAN TRANSIT AUTHORITY</td>\n",
       "      <td>167411.18</td>\n",
       "      <td>0.0</td>\n",
       "      <td>400184.25</td>\n",
       "      <td>NaN</td>\n",
       "      <td>567595.43</td>\n",
       "      <td>567595.43</td>\n",
       "      <td>2011</td>\n",
       "      <td>NaN</td>\n",
       "      <td>San Francisco</td>\n",
       "      <td>NaN</td>\n",
       "    </tr>\n",
       "  </tbody>\n",
       "</table>\n",
       "</div>"
      ],
      "text/plain": [
       "   Id    EmployeeName                                        JobTitle  \\\n",
       "0   1  NATHANIEL FORD  GENERAL MANAGER-METROPOLITAN TRANSIT AUTHORITY   \n",
       "\n",
       "     BasePay OvertimePay   OtherPay Benefits   TotalPay  TotalPayBenefits  \\\n",
       "0  167411.18         0.0  400184.25      NaN  567595.43         567595.43   \n",
       "\n",
       "   Year  Notes         Agency Status  \n",
       "0  2011    NaN  San Francisco    NaN  "
      ]
     },
     "execution_count": 52,
     "metadata": {},
     "output_type": "execute_result"
    }
   ],
   "source": [
    "df[df['TotalPayBenefits']== df['TotalPayBenefits'].max()] #['EmployeeName']"
   ]
  },
  {
   "cell_type": "code",
   "execution_count": 53,
   "id": "aacfb6a9",
   "metadata": {},
   "outputs": [
    {
     "data": {
      "text/html": [
       "<div>\n",
       "<style scoped>\n",
       "    .dataframe tbody tr th:only-of-type {\n",
       "        vertical-align: middle;\n",
       "    }\n",
       "\n",
       "    .dataframe tbody tr th {\n",
       "        vertical-align: top;\n",
       "    }\n",
       "\n",
       "    .dataframe thead th {\n",
       "        text-align: right;\n",
       "    }\n",
       "</style>\n",
       "<table border=\"1\" class=\"dataframe\">\n",
       "  <thead>\n",
       "    <tr style=\"text-align: right;\">\n",
       "      <th></th>\n",
       "      <th>Id</th>\n",
       "      <th>EmployeeName</th>\n",
       "      <th>JobTitle</th>\n",
       "      <th>BasePay</th>\n",
       "      <th>OvertimePay</th>\n",
       "      <th>OtherPay</th>\n",
       "      <th>Benefits</th>\n",
       "      <th>TotalPay</th>\n",
       "      <th>TotalPayBenefits</th>\n",
       "      <th>Year</th>\n",
       "      <th>Notes</th>\n",
       "      <th>Agency</th>\n",
       "      <th>Status</th>\n",
       "    </tr>\n",
       "  </thead>\n",
       "  <tbody>\n",
       "    <tr>\n",
       "      <th>148653</th>\n",
       "      <td>148654</td>\n",
       "      <td>Joe Lopez</td>\n",
       "      <td>Counselor, Log Cabin Ranch</td>\n",
       "      <td>0.0</td>\n",
       "      <td>0.00</td>\n",
       "      <td>-618.13</td>\n",
       "      <td>0.00</td>\n",
       "      <td>-618.13</td>\n",
       "      <td>-618.13</td>\n",
       "      <td>2014</td>\n",
       "      <td>NaN</td>\n",
       "      <td>San Francisco</td>\n",
       "      <td>PT</td>\n",
       "    </tr>\n",
       "  </tbody>\n",
       "</table>\n",
       "</div>"
      ],
      "text/plain": [
       "            Id EmployeeName                    JobTitle  BasePay OvertimePay  \\\n",
       "148653  148654    Joe Lopez  Counselor, Log Cabin Ranch      0.0        0.00   \n",
       "\n",
       "       OtherPay Benefits  TotalPay  TotalPayBenefits  Year  Notes  \\\n",
       "148653  -618.13     0.00   -618.13           -618.13  2014    NaN   \n",
       "\n",
       "               Agency Status  \n",
       "148653  San Francisco     PT  "
      ]
     },
     "execution_count": 53,
     "metadata": {},
     "output_type": "execute_result"
    }
   ],
   "source": [
    "df[df['TotalPayBenefits']== df['TotalPayBenefits'].min()] #['EmployeeName']"
   ]
  },
  {
   "cell_type": "code",
   "execution_count": 56,
   "id": "d0d2f484",
   "metadata": {},
   "outputs": [
    {
     "data": {
      "text/plain": [
       "2158"
      ]
     },
     "execution_count": 56,
     "metadata": {},
     "output_type": "execute_result"
    }
   ],
   "source": [
    "df['JobTitle'].nunique()"
   ]
  },
  {
   "cell_type": "code",
   "execution_count": 57,
   "id": "d9734b64",
   "metadata": {},
   "outputs": [
    {
     "data": {
      "text/plain": [
       "JobTitle\n",
       "Transit Operator                7036\n",
       "Special Nurse                   4389\n",
       "Registered Nurse                3736\n",
       "Public Svc Aide-Public Works    2518\n",
       "Police Officer 3                2421\n",
       "Name: count, dtype: int64"
      ]
     },
     "execution_count": 57,
     "metadata": {},
     "output_type": "execute_result"
    }
   ],
   "source": [
    "df['JobTitle'].value_counts().head(5)"
   ]
  },
  {
   "cell_type": "code",
   "execution_count": 58,
   "id": "8dc80638",
   "metadata": {},
   "outputs": [
    {
     "data": {
      "text/plain": [
       "202"
      ]
     },
     "execution_count": 58,
     "metadata": {},
     "output_type": "execute_result"
    }
   ],
   "source": [
    "sum(df[df['Year']==2013]['JobTitle'].value_counts() == 1)"
   ]
  },
  {
   "cell_type": "code",
   "execution_count": 59,
   "id": "d194b653",
   "metadata": {},
   "outputs": [],
   "source": [
    "def chief_string(title):\n",
    "    if 'chief' in title.lower():\n",
    "        return True\n",
    "    else:\n",
    "        return False"
   ]
  },
  {
   "cell_type": "code",
   "execution_count": null,
   "id": "c6995097",
   "metadata": {},
   "outputs": [],
   "source": []
  }
 ],
 "metadata": {
  "kernelspec": {
   "display_name": "Python 3 (ipykernel)",
   "language": "python",
   "name": "python3"
  },
  "language_info": {
   "codemirror_mode": {
    "name": "ipython",
    "version": 3
   },
   "file_extension": ".py",
   "mimetype": "text/x-python",
   "name": "python",
   "nbconvert_exporter": "python",
   "pygments_lexer": "ipython3",
   "version": "3.11.5"
  }
 },
 "nbformat": 4,
 "nbformat_minor": 5
}
